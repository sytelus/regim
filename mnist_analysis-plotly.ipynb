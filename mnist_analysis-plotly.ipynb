{
 "cells": [
  {
   "cell_type": "code",
   "execution_count": 7,
   "metadata": {},
   "outputs": [],
   "source": [
    "%matplotlib notebook\n",
    "import longview as lv"
   ]
  },
  {
   "cell_type": "code",
   "execution_count": 8,
   "metadata": {},
   "outputs": [],
   "source": [
    "cli_train = lv.WatchClient()\n",
    "cli_test = lv.WatchClient()\n",
    "plot = lv.plotly.LinePlot()"
   ]
  },
  {
   "cell_type": "code",
   "execution_count": 9,
   "metadata": {
    "scrolled": true
   },
   "outputs": [],
   "source": [
    "# train_batch_loss = cli_train.create_stream('batch', 'map(lambda d:d.metrics.batch_loss, l)', throttle=1)\n",
    "# plot.add(train_batch_loss, xtitle='Epoch', ytitle='Loss', clear_after_end=False)"
   ]
  },
  {
   "cell_type": "code",
   "execution_count": 10,
   "metadata": {},
   "outputs": [],
   "source": [
    "# train_batch_accuracy = cli_train.create_stream('batch', 'map(lambda d:d.metrics.batch_accuracy, l)', throttle=1)\n",
    "# plot.add(train_batch_accuracy, xtitle='Epoch', ytitle='TrainAccuracy', yrange=(0,1), clear_after_end=False)"
   ]
  },
  {
   "cell_type": "code",
   "execution_count": 11,
   "metadata": {},
   "outputs": [],
   "source": [
    "# test_batch_accuracy = cli_test.create_stream('batch', 'map(lambda d:d.metrics.batch_accuracy, l)', throttle=1)\n",
    "# plot.add(test_batch_accuracy, xtitle='Epoch', ytitle='TestAccuracy', yrange=(0,1), clear_after_end=False)"
   ]
  },
  {
   "cell_type": "code",
   "execution_count": 13,
   "metadata": {
    "scrolled": true
   },
   "outputs": [
    {
     "data": {
      "application/vnd.jupyter.widget-view+json": {
       "model_id": "0f6632f1090b4cf99f6c73cb3f41d69d",
       "version_major": 2,
       "version_minor": 0
      },
      "text/plain": [
       "FigureWidget({\n",
       "    'data': [{'line': {'color': 'rgb(31, 119, 180)'},\n",
       "              'mode': 'lines+markers',\n",
       "  …"
      ]
     },
     "metadata": {},
     "output_type": "display_data"
    }
   ],
   "source": [
    "grads = cli_train.create_stream('batch', 'map(lambda d:agg_params(d.model, lambda p: p.grad.abs().mean().item()), l)', throttle=3)\n",
    "grad_plot = lv.plotly.LinePlot(\"Weight Gradients\", show_legend=False)\n",
    "grad_plot.add(grads, xtitle='Epoch', ytitle='Gradients', clear_after_each=True, clear_after_end=False, history_len=3)"
   ]
  }
 ],
 "metadata": {
  "kernelspec": {
   "display_name": "Python 3",
   "language": "python",
   "name": "python3"
  },
  "language_info": {
   "codemirror_mode": {
    "name": "ipython",
    "version": 3
   },
   "file_extension": ".py",
   "mimetype": "text/x-python",
   "name": "python",
   "nbconvert_exporter": "python",
   "pygments_lexer": "ipython3",
   "version": "3.6.5"
  }
 },
 "nbformat": 4,
 "nbformat_minor": 2
}
